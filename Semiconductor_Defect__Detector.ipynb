{
  "nbformat": 4,
  "nbformat_minor": 0,
  "metadata": {
    "colab": {
      "provenance": []
    },
    "kernelspec": {
      "name": "python3",
      "display_name": "Python 3"
    },
    "language_info": {
      "name": "python"
    }
  },
  "cells": [
    {
      "cell_type": "markdown",
      "source": [
        "Setup"
      ],
      "metadata": {
        "id": "RmBg8SXY_77I"
      }
    },
    {
      "cell_type": "code",
      "source": [
        "#clone YOLOv5 and\n",
        "!git clone https://github.com/ultralytics/yolov5  # clone repo\n",
        "%cd yolov5\n",
        "%pip install -qr requirements.txt # install dependencies\n",
        "%pip install -q roboflow\n",
        "\n",
        "import torch\n",
        "import os\n",
        "from IPython.display import Image, clear_output  # to display images\n",
        "\n",
        "print(f\"Setup complete. Using torch {torch.__version__} ({torch.cuda.get_device_properties(0).name if torch.cuda.is_available() else 'CPU'})\")\n",
        ""
      ],
      "metadata": {
        "id": "O837tRWu_9tB"
      },
      "execution_count": null,
      "outputs": []
    },
    {
      "cell_type": "markdown",
      "source": [
        "\n",
        "set up environment\n"
      ],
      "metadata": {
        "id": "DiaYluOoABGP"
      }
    },
    {
      "cell_type": "code",
      "source": [
        "os.environ[\"DATASET_DIRECTORY\"] = \"/content/datasets\""
      ],
      "metadata": {
        "id": "DC2y-WRhAMun"
      },
      "execution_count": null,
      "outputs": []
    },
    {
      "cell_type": "markdown",
      "source": [
        "Get dataset from Roboflow\n"
      ],
      "metadata": {
        "id": "kdsk88dhAOv_"
      }
    },
    {
      "cell_type": "code",
      "source": [
        "!pip install roboflow\n",
        "\n",
        "from roboflow import Roboflow\n",
        "rf = Roboflow(api_key=\"acmRgd1kVVhvWgMBpU2V\")\n",
        "project = rf.workspace(\"yolo-dnfmw\").project(\"semiconductor-defect-detector\")\n",
        "version = project.version(1)\n",
        "dataset = version.download(\"yolov5\")\n"
      ],
      "metadata": {
        "id": "ma84XVbEAUQ_"
      },
      "execution_count": null,
      "outputs": []
    },
    {
      "cell_type": "markdown",
      "source": [
        "Train The Yolo Model\n"
      ],
      "metadata": {
        "id": "KDNGU6ISAkY3"
      }
    },
    {
      "cell_type": "code",
      "source": [
        "!python train.py --img 416 --batch 16 --epochs 100 --data {dataset.location}/data.yaml --weights yolov5s.pt --cache\n"
      ],
      "metadata": {
        "id": "vvP90--xAoeB"
      },
      "execution_count": null,
      "outputs": []
    },
    {
      "cell_type": "markdown",
      "source": [
        "Show Training Results\n"
      ],
      "metadata": {
        "id": "zzUCd5HTA0VK"
      }
    },
    {
      "cell_type": "code",
      "source": [
        "\n",
        "# Start tensorboard\n",
        "# Launch after you have started training\n",
        "# logs save in the folder \"runs\"\n",
        "%load_ext tensorboard\n",
        "%tensorboard --logdir runs"
      ],
      "metadata": {
        "id": "4mfKvTOAA-E4"
      },
      "execution_count": null,
      "outputs": []
    },
    {
      "cell_type": "markdown",
      "source": [
        "Prediction\n"
      ],
      "metadata": {
        "id": "aWbmk_YsBBHh"
      }
    },
    {
      "cell_type": "code",
      "source": [
        "!python detect.py --weights runs/train/exp/weights/best.pt --img 416 --conf 0.2 --source {dataset.location}/valid/images\n"
      ],
      "metadata": {
        "id": "Slqfgw4fBEuP"
      },
      "execution_count": null,
      "outputs": []
    },
    {
      "cell_type": "markdown",
      "source": [
        "Display Inference Images\n"
      ],
      "metadata": {
        "id": "0xdb_40TBVAP"
      }
    },
    {
      "cell_type": "code",
      "source": [
        "\n",
        "#display inference on ALL test images\n",
        "\n",
        "import glob\n",
        "from IPython.display import Image, display\n",
        "\n",
        "i = 0\n",
        "# Choose the correct exp folder - see prev output block\n",
        "for imageName in glob.glob('/content/yolov5/runs/detect/exp/*.jpg'): #assuming JPG\n",
        "    i += 1\n",
        "\n",
        "    if i < 8:\n",
        "      display(Image(filename=imageName))\n",
        "      print(\"\\n\")"
      ],
      "metadata": {
        "id": "E_LfsTxqBc_A"
      },
      "execution_count": null,
      "outputs": []
    },
    {
      "cell_type": "markdown",
      "source": [
        "Save Model\n"
      ],
      "metadata": {
        "id": "Ir_i0sUqBkPo"
      }
    },
    {
      "cell_type": "code",
      "source": [
        "\n",
        "#export your model's weights for future use\n",
        "from google.colab import files\n",
        "files.download('./runs/train/exp/weights/best.pt')"
      ],
      "metadata": {
        "id": "bLGakq9VBtGX"
      },
      "execution_count": null,
      "outputs": []
    }
  ]
}